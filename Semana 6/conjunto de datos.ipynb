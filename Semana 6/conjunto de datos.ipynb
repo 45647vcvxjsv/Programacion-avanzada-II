{
 "cells": [
  {
   "cell_type": "code",
   "execution_count": 1,
   "id": "39ea098a-a7d5-474c-a7b3-d9c90717e206",
   "metadata": {},
   "outputs": [],
   "source": [
    "import pandas as pd\n",
    "import random"
   ]
  },
  {
   "cell_type": "code",
   "execution_count": 2,
   "id": "cf6fb12f-c29b-4131-a543-af38122cb5db",
   "metadata": {},
   "outputs": [],
   "source": [
    "nombres = [\"Juan\", \"Maria\", \"Soledad\", \"Laura\", \"Ana\", \"Carlos\", \"Sofía\", \"Luis\", \"Elena\", \"Diego\"]\n",
    "apellidos = [\"Gómez\", \"Pérez\", \"Martínez\", \"Rodríguez\", \"López\", \"González\", \"Hernández\", \"Díaz\", \"Sánchez\", \"Torres\"]\n",
    "especialidades = [\"Cardiología\", \"Pediatría\", \"Oncología\", \"Neurología\", \"Ginecología\", \"Dermatología\", \"Psiquiatría\", \"Endocrinología\", \"Oftalmología\", \"Cirugía\"]\n",
    "sexos = [\"Masculino\", \"Femenino\"]\n",
    "direcciones = [\"Calle Principal 123\", \"Avenida Central 456\", \"Plaza Mayor 789\", \"Callejón Secreto 321\", \"Camino Real 654\"]\n"
   ]
  },
  {
   "cell_type": "code",
   "execution_count": 3,
   "id": "9ebd7313-b20b-48b5-9f6d-8c7f5fca24af",
   "metadata": {},
   "outputs": [],
   "source": [
    "data = []\n",
    "for i in range(50):\n",
    "  doctor = {\n",
    "      'Nombre': random.choice(nombres),\n",
    "      'Apellido': random.choice(apellidos),\n",
    "      'Especialidades': random.choice(especialidades),\n",
    "      'Sexo': random.choice(sexos),\n",
    "      'Direcciones': random.choice(direcciones)\n",
    "  }\n",
    "  data.append(doctor)\n"
   ]
  },
  {
   "cell_type": "code",
   "execution_count": 4,
   "id": "774815df-486b-43c2-8fb8-e12ce5bf17a3",
   "metadata": {},
   "outputs": [],
   "source": [
    "df = pd.DataFrame(data)"
   ]
  },
  {
   "cell_type": "code",
   "execution_count": 7,
   "id": "61e42b25-b10e-4d32-857e-330608a151ac",
   "metadata": {},
   "outputs": [],
   "source": [
    "doctores_hombres = df[df['Sexo'] == 'Masculino']\n",
    "doctores_mujeres = df[df['Sexo'] == 'Femenino']"
   ]
  },
  {
   "cell_type": "code",
   "execution_count": 8,
   "id": "7844af56-a49c-411d-a5d3-655819546ee4",
   "metadata": {},
   "outputs": [
    {
     "name": "stdout",
     "output_type": "stream",
     "text": [
      "Doctores Hombres\n",
      "     Nombre   Apellido  Especialidades       Sexo           Direcciones\n",
      "0     Laura  Rodríguez      Neurología  Masculino  Callejón Secreto 321\n",
      "2       Ana    Sánchez       Oncología  Masculino  Callejón Secreto 321\n",
      "3     Elena   Martínez      Neurología  Masculino  Callejón Secreto 321\n",
      "4     Laura       Díaz    Oftalmología  Masculino       Plaza Mayor 789\n",
      "7     Elena    Sánchez       Oncología  Masculino       Plaza Mayor 789\n",
      "9   Soledad     Torres     Cardiología  Masculino       Plaza Mayor 789\n",
      "10    Maria      Pérez      Neurología  Masculino   Avenida Central 456\n",
      "11    Diego      López         Cirugía  Masculino   Calle Principal 123\n",
      "12    Diego   Martínez  Endocrinología  Masculino   Calle Principal 123\n",
      "13    Sofía      López       Pediatría  Masculino   Calle Principal 123\n",
      "14  Soledad  Hernández       Pediatría  Masculino   Avenida Central 456\n",
      "20    Elena       Díaz         Cirugía  Masculino  Callejón Secreto 321\n",
      "21    Maria  Rodríguez     Psiquiatría  Masculino   Avenida Central 456\n",
      "22    Diego   Martínez  Endocrinología  Masculino       Camino Real 654\n",
      "24  Soledad  Hernández     Ginecología  Masculino   Calle Principal 123\n",
      "25    Elena    Sánchez  Endocrinología  Masculino  Callejón Secreto 321\n",
      "26  Soledad  Rodríguez     Psiquiatría  Masculino       Plaza Mayor 789\n",
      "29    Sofía     Torres    Oftalmología  Masculino   Calle Principal 123\n",
      "30   Carlos   González       Pediatría  Masculino   Calle Principal 123\n",
      "33     Luis  Hernández     Ginecología  Masculino       Plaza Mayor 789\n",
      "35    Sofía      Pérez    Oftalmología  Masculino   Calle Principal 123\n",
      "36    Sofía  Hernández     Ginecología  Masculino       Camino Real 654\n",
      "37    Laura      Pérez     Ginecología  Masculino  Callejón Secreto 321\n",
      "38    Diego   González         Cirugía  Masculino       Plaza Mayor 789\n",
      "39    Maria      Gómez     Ginecología  Masculino       Plaza Mayor 789\n",
      "40    Maria   Martínez     Psiquiatría  Masculino  Callejón Secreto 321\n",
      "41    Elena      Gómez       Pediatría  Masculino   Avenida Central 456\n",
      "43  Soledad  Hernández     Ginecología  Masculino       Camino Real 654\n",
      "45  Soledad      Pérez     Psiquiatría  Masculino   Calle Principal 123\n",
      "48    Sofía      Pérez       Oncología  Masculino       Camino Real 654\n",
      "49    Laura  Hernández     Cardiología  Masculino   Avenida Central 456\n",
      "Doctores mujeres\n",
      "     Nombre   Apellido  Especialidades      Sexo           Direcciones\n",
      "1     Diego    Sánchez  Endocrinología  Femenino       Plaza Mayor 789\n",
      "5     Maria      Gómez    Oftalmología  Femenino       Camino Real 654\n",
      "6       Ana      Pérez  Endocrinología  Femenino   Calle Principal 123\n",
      "8     Laura      Gómez     Cardiología  Femenino  Callejón Secreto 321\n",
      "15  Soledad      Gómez       Oncología  Femenino   Avenida Central 456\n",
      "16     Luis      López         Cirugía  Femenino       Camino Real 654\n",
      "17    Maria    Sánchez       Oncología  Femenino       Camino Real 654\n",
      "18    Laura  Rodríguez    Dermatología  Femenino       Camino Real 654\n",
      "19    Diego      López    Oftalmología  Femenino   Avenida Central 456\n",
      "23    Sofía      López     Psiquiatría  Femenino   Calle Principal 123\n",
      "27    Elena   Martínez  Endocrinología  Femenino  Callejón Secreto 321\n",
      "28    Maria  Rodríguez      Neurología  Femenino   Avenida Central 456\n",
      "31    Laura     Torres      Neurología  Femenino       Camino Real 654\n",
      "32    Maria     Torres     Psiquiatría  Femenino       Camino Real 654\n",
      "34     Juan      Gómez    Oftalmología  Femenino       Camino Real 654\n",
      "42    Maria     Torres     Psiquiatría  Femenino   Avenida Central 456\n",
      "44    Diego      Pérez     Cardiología  Femenino       Camino Real 654\n",
      "46   Carlos      Gómez    Dermatología  Femenino   Calle Principal 123\n",
      "47     Juan       Díaz     Ginecología  Femenino   Avenida Central 456\n"
     ]
    }
   ],
   "source": [
    "print(\"Doctores Hombres\")\n",
    "print(doctores_hombres)\n",
    "\n",
    "print(\"Doctores mujeres\")\n",
    "print(doctores_mujeres)"
   ]
  },
  {
   "cell_type": "code",
   "execution_count": null,
   "id": "55c37956-4c83-44e4-915d-bd4e033ebdf2",
   "metadata": {},
   "outputs": [],
   "source": []
  }
 ],
 "metadata": {
  "kernelspec": {
   "display_name": "Python 3 (ipykernel)",
   "language": "python",
   "name": "python3"
  },
  "language_info": {
   "codemirror_mode": {
    "name": "ipython",
    "version": 3
   },
   "file_extension": ".py",
   "mimetype": "text/x-python",
   "name": "python",
   "nbconvert_exporter": "python",
   "pygments_lexer": "ipython3",
   "version": "3.12.3"
  }
 },
 "nbformat": 4,
 "nbformat_minor": 5
}
