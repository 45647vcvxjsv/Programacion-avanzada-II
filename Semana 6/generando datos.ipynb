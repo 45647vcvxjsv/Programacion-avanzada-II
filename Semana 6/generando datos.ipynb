{
 "cells": [
  {
   "cell_type": "code",
   "execution_count": 1,
   "id": "c5e51860-e0ab-4661-96a6-c6391d90325b",
   "metadata": {},
   "outputs": [],
   "source": [
    "import pandas as pd"
   ]
  },
  {
   "cell_type": "code",
   "execution_count": 2,
   "id": "d9d66c37-7b48-43e4-a2d7-c7a1d792daf5",
   "metadata": {},
   "outputs": [],
   "source": [
    "df = pd.read_csv('Lista de medicos completa')"
   ]
  },
  {
   "cell_type": "code",
   "execution_count": 3,
   "id": "2045ea33-d856-4143-aec8-9c99dad433d9",
   "metadata": {},
   "outputs": [
    {
     "name": "stdout",
     "output_type": "stream",
     "text": [
      "     Nombre   Apellido  Especialidades       Sexo           Direcciones\n",
      "0     Sofía      López  Endocrinología   Femenino  Callejón Secreto 321\n",
      "1     Sofía  Rodríguez         Cirugía   Femenino  Callejón Secreto 321\n",
      "2     Sofía     Torres      Neurología   Femenino       Plaza Mayor 789\n",
      "3   Soledad     Torres     Cardiología  Masculino   Avenida Central 456\n",
      "4      Juan  Rodríguez       Pediatría   Femenino   Calle Principal 123\n",
      "5     Elena   Martínez  Endocrinología   Femenino  Callejón Secreto 321\n",
      "6     Laura    Sánchez         Cirugía   Femenino       Camino Real 654\n",
      "7     Laura    Sánchez    Dermatología  Masculino  Callejón Secreto 321\n",
      "8   Soledad      Pérez    Oftalmología   Femenino   Avenida Central 456\n",
      "9      Luis   Martínez      Neurología  Masculino   Calle Principal 123\n",
      "10  Soledad   Martínez     Psiquiatría  Masculino       Plaza Mayor 789\n",
      "11    Sofía      Pérez     Psiquiatría   Femenino   Calle Principal 123\n",
      "12      Ana  Rodríguez       Oncología   Femenino   Avenida Central 456\n",
      "13    Laura  Hernández      Neurología  Masculino   Avenida Central 456\n",
      "14     Juan  Rodríguez     Cardiología   Femenino  Callejón Secreto 321\n",
      "15   Carlos      Pérez  Endocrinología   Femenino       Plaza Mayor 789\n",
      "16    Elena   Martínez  Endocrinología   Femenino       Camino Real 654\n",
      "17     Luis      Gómez    Dermatología  Masculino   Avenida Central 456\n",
      "18     Juan  Hernández     Cardiología  Masculino       Plaza Mayor 789\n",
      "19    Elena  Rodríguez         Cirugía   Femenino   Calle Principal 123\n",
      "20      Ana    Sánchez     Cardiología  Masculino       Plaza Mayor 789\n",
      "21    Diego       Díaz       Pediatría   Femenino       Plaza Mayor 789\n",
      "22    Laura     Torres         Cirugía  Masculino   Calle Principal 123\n",
      "23     Juan  Rodríguez  Endocrinología  Masculino       Plaza Mayor 789\n",
      "24   Carlos      Pérez    Oftalmología   Femenino   Calle Principal 123\n",
      "25  Soledad  Rodríguez      Neurología  Masculino       Plaza Mayor 789\n",
      "26    Maria     Torres  Endocrinología   Femenino       Camino Real 654\n",
      "27  Soledad      Gómez    Oftalmología   Femenino       Camino Real 654\n",
      "28     Luis    Sánchez       Oncología  Masculino       Plaza Mayor 789\n",
      "29    Maria      Gómez    Dermatología   Femenino   Avenida Central 456\n",
      "30  Soledad  Hernández     Cardiología   Femenino       Plaza Mayor 789\n",
      "31    Sofía    Sánchez       Pediatría  Masculino   Avenida Central 456\n",
      "32   Carlos       Díaz         Cirugía   Femenino   Avenida Central 456\n",
      "33    Diego  Rodríguez      Neurología   Femenino  Callejón Secreto 321\n",
      "34    Laura   González     Ginecología   Femenino       Camino Real 654\n",
      "35  Soledad  Hernández     Ginecología  Masculino       Plaza Mayor 789\n",
      "36    Elena  Rodríguez      Neurología  Masculino       Camino Real 654\n",
      "37     Luis  Hernández       Pediatría   Femenino  Callejón Secreto 321\n",
      "38    Laura   Martínez  Endocrinología  Masculino   Avenida Central 456\n",
      "39    Diego      López       Oncología   Femenino   Avenida Central 456\n",
      "40    Diego      Pérez      Neurología  Masculino  Callejón Secreto 321\n",
      "41  Soledad     Torres    Dermatología  Masculino  Callejón Secreto 321\n",
      "42    Elena   Martínez     Psiquiatría   Femenino       Plaza Mayor 789\n",
      "43   Carlos      López    Dermatología  Masculino   Calle Principal 123\n",
      "44    Elena  Rodríguez     Psiquiatría  Masculino       Camino Real 654\n",
      "45    Sofía   González     Cardiología   Femenino   Avenida Central 456\n",
      "46      Ana      Gómez         Cirugía   Femenino   Calle Principal 123\n",
      "47    Maria   Martínez         Cirugía   Femenino   Calle Principal 123\n",
      "48     Juan      Gómez    Oftalmología   Femenino   Avenida Central 456\n",
      "49     Juan       Díaz       Pediatría   Femenino   Avenida Central 456\n"
     ]
    }
   ],
   "source": [
    "print(df)"
   ]
  }
 ],
 "metadata": {
  "kernelspec": {
   "display_name": "Python 3 (ipykernel)",
   "language": "python",
   "name": "python3"
  },
  "language_info": {
   "codemirror_mode": {
    "name": "ipython",
    "version": 3
   },
   "file_extension": ".py",
   "mimetype": "text/x-python",
   "name": "python",
   "nbconvert_exporter": "python",
   "pygments_lexer": "ipython3",
   "version": "3.12.3"
  }
 },
 "nbformat": 4,
 "nbformat_minor": 5
}
